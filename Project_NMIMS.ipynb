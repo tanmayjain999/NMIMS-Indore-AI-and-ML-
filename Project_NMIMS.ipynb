{
  "nbformat": 4,
  "nbformat_minor": 0,
  "metadata": {
    "colab": {
      "name": "Project NMIMS",
      "provenance": [],
      "collapsed_sections": []
    },
    "kernelspec": {
      "name": "python3",
      "display_name": "Python 3"
    },
    "language_info": {
      "name": "python"
    }
  },
  "cells": [
    {
      "cell_type": "code",
      "metadata": {
        "id": "wEXDWQdVsxdr"
      },
      "source": [
        "#Predict the price of houses taking the input as Sq.Ft. and \n",
        "#determine the Mean Absolute Error, Mean Squared Error, Root Mean Squared Error\n",
        "#Predict the price of the house if the square feet of the house is 995."
      ],
      "execution_count": null,
      "outputs": []
    },
    {
      "cell_type": "code",
      "metadata": {
        "id": "VoPNAFOItVEC"
      },
      "source": [
        "#import packages\n",
        "import numpy as np\n",
        "import pandas as pd\n",
        "import matplotlib.pyplot as plt\n",
        "from sklearn.linear_model import LinearRegression\n",
        "from sklearn import metrics\n",
        "from sklearn.model_selection import train_test_split \n",
        "%matplotlib inline"
      ],
      "execution_count": null,
      "outputs": []
    },
    {
      "cell_type": "code",
      "metadata": {
        "id": "wUcFFT8stce6",
        "colab": {
          "base_uri": "https://localhost:8080/",
          "height": 206
        },
        "outputId": "e7e04ead-ec50-4f05-939a-f7acfa97a7c2"
      },
      "source": [
        "#read file\n",
        "house_sell = pd.read_csv('House Selling Price.csv')  \n",
        "house_sell.head()"
      ],
      "execution_count": null,
      "outputs": [
        {
          "output_type": "execute_result",
          "data": {
            "text/html": [
              "<div>\n",
              "<style scoped>\n",
              "    .dataframe tbody tr th:only-of-type {\n",
              "        vertical-align: middle;\n",
              "    }\n",
              "\n",
              "    .dataframe tbody tr th {\n",
              "        vertical-align: top;\n",
              "    }\n",
              "\n",
              "    .dataframe thead th {\n",
              "        text-align: right;\n",
              "    }\n",
              "</style>\n",
              "<table border=\"1\" class=\"dataframe\">\n",
              "  <thead>\n",
              "    <tr style=\"text-align: right;\">\n",
              "      <th></th>\n",
              "      <th>PRICE ($)</th>\n",
              "      <th>SQFT</th>\n",
              "    </tr>\n",
              "  </thead>\n",
              "  <tbody>\n",
              "    <tr>\n",
              "      <th>0</th>\n",
              "      <td>650000.0</td>\n",
              "      <td>1001.0</td>\n",
              "    </tr>\n",
              "    <tr>\n",
              "      <th>1</th>\n",
              "      <td>380000.0</td>\n",
              "      <td>735.0</td>\n",
              "    </tr>\n",
              "    <tr>\n",
              "      <th>2</th>\n",
              "      <td>602500.0</td>\n",
              "      <td>790.0</td>\n",
              "    </tr>\n",
              "    <tr>\n",
              "      <th>3</th>\n",
              "      <td>180000.0</td>\n",
              "      <td>413.0</td>\n",
              "    </tr>\n",
              "    <tr>\n",
              "      <th>4</th>\n",
              "      <td>320000.0</td>\n",
              "      <td>718.0</td>\n",
              "    </tr>\n",
              "  </tbody>\n",
              "</table>\n",
              "</div>"
            ],
            "text/plain": [
              "   PRICE ($)    SQFT\n",
              "0   650000.0  1001.0\n",
              "1   380000.0   735.0\n",
              "2   602500.0   790.0\n",
              "3   180000.0   413.0\n",
              "4   320000.0   718.0"
            ]
          },
          "metadata": {
            "tags": []
          },
          "execution_count": 3
        }
      ]
    },
    {
      "cell_type": "code",
      "metadata": {
        "id": "QawEWdYltdDy"
      },
      "source": [
        "#keep a copy\n",
        "house_sell_reg = house_sell.copy()"
      ],
      "execution_count": null,
      "outputs": []
    },
    {
      "cell_type": "code",
      "metadata": {
        "id": "c09ebHBytdGb",
        "colab": {
          "base_uri": "https://localhost:8080/"
        },
        "outputId": "ab8722f1-e8f5-41ae-ea1a-bc47e5d80aed"
      },
      "source": [
        "#shape\n",
        "house_sell_reg.shape"
      ],
      "execution_count": null,
      "outputs": [
        {
          "output_type": "execute_result",
          "data": {
            "text/plain": [
              "(578, 2)"
            ]
          },
          "metadata": {
            "tags": []
          },
          "execution_count": 5
        }
      ]
    },
    {
      "cell_type": "code",
      "metadata": {
        "id": "iON8JoxOtdJD",
        "colab": {
          "base_uri": "https://localhost:8080/"
        },
        "outputId": "f060d11f-03d0-455f-c656-91a23b46febe"
      },
      "source": [
        "#column names\n",
        "house_sell_reg.columns"
      ],
      "execution_count": null,
      "outputs": [
        {
          "output_type": "execute_result",
          "data": {
            "text/plain": [
              "Index(['PRICE ($)', 'SQFT'], dtype='object')"
            ]
          },
          "metadata": {
            "tags": []
          },
          "execution_count": 6
        }
      ]
    },
    {
      "cell_type": "code",
      "metadata": {
        "id": "QsikA4FKtnx6",
        "colab": {
          "base_uri": "https://localhost:8080/",
          "height": 206
        },
        "outputId": "89f07114-ab2a-4dbd-a1ae-03330a022374"
      },
      "source": [
        "#rename columns\n",
        "house_sell_reg = house_sell_reg.rename(columns = {'PRICE ($)':'price'})\n",
        "house_sell_reg.tail()"
      ],
      "execution_count": null,
      "outputs": [
        {
          "output_type": "execute_result",
          "data": {
            "text/html": [
              "<div>\n",
              "<style scoped>\n",
              "    .dataframe tbody tr th:only-of-type {\n",
              "        vertical-align: middle;\n",
              "    }\n",
              "\n",
              "    .dataframe tbody tr th {\n",
              "        vertical-align: top;\n",
              "    }\n",
              "\n",
              "    .dataframe thead th {\n",
              "        text-align: right;\n",
              "    }\n",
              "</style>\n",
              "<table border=\"1\" class=\"dataframe\">\n",
              "  <thead>\n",
              "    <tr style=\"text-align: right;\">\n",
              "      <th></th>\n",
              "      <th>price</th>\n",
              "      <th>SQFT</th>\n",
              "    </tr>\n",
              "  </thead>\n",
              "  <tbody>\n",
              "    <tr>\n",
              "      <th>573</th>\n",
              "      <td>580000.0</td>\n",
              "      <td>931.0</td>\n",
              "    </tr>\n",
              "    <tr>\n",
              "      <th>574</th>\n",
              "      <td>NaN</td>\n",
              "      <td>NaN</td>\n",
              "    </tr>\n",
              "    <tr>\n",
              "      <th>575</th>\n",
              "      <td>NaN</td>\n",
              "      <td>NaN</td>\n",
              "    </tr>\n",
              "    <tr>\n",
              "      <th>576</th>\n",
              "      <td>NaN</td>\n",
              "      <td>NaN</td>\n",
              "    </tr>\n",
              "    <tr>\n",
              "      <th>577</th>\n",
              "      <td>NaN</td>\n",
              "      <td>NaN</td>\n",
              "    </tr>\n",
              "  </tbody>\n",
              "</table>\n",
              "</div>"
            ],
            "text/plain": [
              "        price   SQFT\n",
              "573  580000.0  931.0\n",
              "574       NaN    NaN\n",
              "575       NaN    NaN\n",
              "576       NaN    NaN\n",
              "577       NaN    NaN"
            ]
          },
          "metadata": {
            "tags": []
          },
          "execution_count": 7
        }
      ]
    },
    {
      "cell_type": "code",
      "metadata": {
        "id": "Ns1bGiz1toCL",
        "colab": {
          "base_uri": "https://localhost:8080/",
          "height": 206
        },
        "outputId": "79a538f8-fa32-4dec-b916-d6ef92ea475a"
      },
      "source": [
        "#dropna\n",
        "house_sell_reg = house_sell_reg.dropna()\n",
        "house_sell_reg.tail()"
      ],
      "execution_count": null,
      "outputs": [
        {
          "output_type": "execute_result",
          "data": {
            "text/html": [
              "<div>\n",
              "<style scoped>\n",
              "    .dataframe tbody tr th:only-of-type {\n",
              "        vertical-align: middle;\n",
              "    }\n",
              "\n",
              "    .dataframe tbody tr th {\n",
              "        vertical-align: top;\n",
              "    }\n",
              "\n",
              "    .dataframe thead th {\n",
              "        text-align: right;\n",
              "    }\n",
              "</style>\n",
              "<table border=\"1\" class=\"dataframe\">\n",
              "  <thead>\n",
              "    <tr style=\"text-align: right;\">\n",
              "      <th></th>\n",
              "      <th>price</th>\n",
              "      <th>SQFT</th>\n",
              "    </tr>\n",
              "  </thead>\n",
              "  <tbody>\n",
              "    <tr>\n",
              "      <th>569</th>\n",
              "      <td>1100000.0</td>\n",
              "      <td>1804.0</td>\n",
              "    </tr>\n",
              "    <tr>\n",
              "      <th>570</th>\n",
              "      <td>550000.0</td>\n",
              "      <td>756.0</td>\n",
              "    </tr>\n",
              "    <tr>\n",
              "      <th>571</th>\n",
              "      <td>1025000.0</td>\n",
              "      <td>1814.0</td>\n",
              "    </tr>\n",
              "    <tr>\n",
              "      <th>572</th>\n",
              "      <td>862500.0</td>\n",
              "      <td>1496.0</td>\n",
              "    </tr>\n",
              "    <tr>\n",
              "      <th>573</th>\n",
              "      <td>580000.0</td>\n",
              "      <td>931.0</td>\n",
              "    </tr>\n",
              "  </tbody>\n",
              "</table>\n",
              "</div>"
            ],
            "text/plain": [
              "         price    SQFT\n",
              "569  1100000.0  1804.0\n",
              "570   550000.0   756.0\n",
              "571  1025000.0  1814.0\n",
              "572   862500.0  1496.0\n",
              "573   580000.0   931.0"
            ]
          },
          "metadata": {
            "tags": []
          },
          "execution_count": 8
        }
      ]
    },
    {
      "cell_type": "code",
      "metadata": {
        "id": "3PHxO0UStoE_",
        "colab": {
          "base_uri": "https://localhost:8080/",
          "height": 295
        },
        "outputId": "680254f1-adba-4f12-aacb-34ea3b450e6b"
      },
      "source": [
        "#plot graph\n",
        "house_sell_reg.plot(x = 'price', y = 'SQFT', kind = 'scatter')\n",
        "plt.title(\"Price vs SQFT\")\n",
        "plt.xlabel('Price in dollars')\n",
        "plt.ylabel('SQFT')\n",
        "plt.grid()\n",
        "plt.show()"
      ],
      "execution_count": null,
      "outputs": [
        {
          "output_type": "display_data",
          "data": {
            "image/png": "[encoded data removed]",
            "text/plain": [
              "<Figure size 432x288 with 1 Axes>"
            ]
          },
          "metadata": {
            "tags": [],
            "needs_background": "light"
          }
        }
      ]
    },
    {
      "cell_type": "code",
      "metadata": {
        "id": "m0_2tta_ZnRs"
      },
      "source": [
        "#dependent var and independent var\n",
        "X = np.array(house_sell_reg['SQFT'].values.reshape(-1,1))\n",
        "y = np.array(house_sell_reg['price'].values.reshape(-1,1))"
      ],
      "execution_count": null,
      "outputs": []
    },
    {
      "cell_type": "code",
      "metadata": {
        "id": "Uj4Ob-K0t8Xv"
      },
      "source": [
        "#split dataset\n",
        "X_train, X_test, y_train, y_test = train_test_split(X, y, train_size = 0.8, test_size = 0.2, random_state = 0)"
      ],
      "execution_count": null,
      "outputs": []
    },
    {
      "cell_type": "code",
      "metadata": {
        "id": "I-Te3Hjat8aq",
        "colab": {
          "base_uri": "https://localhost:8080/"
        },
        "outputId": "5d627998-df54-4050-e517-3a88a1804318"
      },
      "source": [
        "#Train and fot model\n",
        "regressor = LinearRegression()\n",
        "regressor.fit(X_train, y_train)"
      ],
      "execution_count": null,
      "outputs": [
        {
          "output_type": "execute_result",
          "data": {
            "text/plain": [
              "LinearRegression(copy_X=True, fit_intercept=True, n_jobs=None, normalize=False)"
            ]
          },
          "metadata": {
            "tags": []
          },
          "execution_count": 12
        }
      ]
    },
    {
      "cell_type": "code",
      "metadata": {
        "id": "ZSK-NAVMuVdj",
        "colab": {
          "base_uri": "https://localhost:8080/"
        },
        "outputId": "8b0c3c06-1c4f-4f66-a949-fcb6813ca4f9"
      },
      "source": [
        "#Intercept\n",
        "regressor.intercept_"
      ],
      "execution_count": null,
      "outputs": [
        {
          "output_type": "execute_result",
          "data": {
            "text/plain": [
              "array([-56974.89185996])"
            ]
          },
          "metadata": {
            "tags": []
          },
          "execution_count": 13
        }
      ]
    },
    {
      "cell_type": "code",
      "metadata": {
        "id": "-8h8-3J_uVgL",
        "colab": {
          "base_uri": "https://localhost:8080/"
        },
        "outputId": "bb56725c-3381-4fde-e849-cc71a5afa55e"
      },
      "source": [
        "#coef\n",
        "regressor.coef_"
      ],
      "execution_count": null,
      "outputs": [
        {
          "output_type": "execute_result",
          "data": {
            "text/plain": [
              "array([[661.91554671]])"
            ]
          },
          "metadata": {
            "tags": []
          },
          "execution_count": 14
        }
      ]
    },
    {
      "cell_type": "code",
      "metadata": {
        "id": "VPkXhSZAuVjC"
      },
      "source": [
        "#Predict values\n",
        "y_pred = regressor.predict(X_test)"
      ],
      "execution_count": null,
      "outputs": []
    },
    {
      "cell_type": "code",
      "metadata": {
        "id": "X4FrCJfauej8",
        "colab": {
          "base_uri": "https://localhost:8080/",
          "height": 423
        },
        "outputId": "bf5c660a-1f9d-4b80-87ce-fe1d400c9fbc"
      },
      "source": [
        "#display actual values and predicted values\n",
        "house_sell_reg_pred = pd.DataFrame({'Actual': y_test.flatten(), 'Predicted': y_pred.flatten()})\n",
        "house_sell_reg_pred"
      ],
      "execution_count": null,
      "outputs": [
        {
          "output_type": "execute_result",
          "data": {
            "text/html": [
              "<div>\n",
              "<style scoped>\n",
              "    .dataframe tbody tr th:only-of-type {\n",
              "        vertical-align: middle;\n",
              "    }\n",
              "\n",
              "    .dataframe tbody tr th {\n",
              "        vertical-align: top;\n",
              "    }\n",
              "\n",
              "    .dataframe thead th {\n",
              "        text-align: right;\n",
              "    }\n",
              "</style>\n",
              "<table border=\"1\" class=\"dataframe\">\n",
              "  <thead>\n",
              "    <tr style=\"text-align: right;\">\n",
              "      <th></th>\n",
              "      <th>Actual</th>\n",
              "      <th>Predicted</th>\n",
              "    </tr>\n",
              "  </thead>\n",
              "  <tbody>\n",
              "    <tr>\n",
              "      <th>0</th>\n",
              "      <td>1395000.0</td>\n",
              "      <td>1.094758e+06</td>\n",
              "    </tr>\n",
              "    <tr>\n",
              "      <th>1</th>\n",
              "      <td>425000.0</td>\n",
              "      <td>3.520889e+05</td>\n",
              "    </tr>\n",
              "    <tr>\n",
              "      <th>2</th>\n",
              "      <td>261250.0</td>\n",
              "      <td>2.958261e+05</td>\n",
              "    </tr>\n",
              "    <tr>\n",
              "      <th>3</th>\n",
              "      <td>1150000.0</td>\n",
              "      <td>1.333048e+06</td>\n",
              "    </tr>\n",
              "    <tr>\n",
              "      <th>4</th>\n",
              "      <td>600000.0</td>\n",
              "      <td>5.288204e+05</td>\n",
              "    </tr>\n",
              "    <tr>\n",
              "      <th>...</th>\n",
              "      <td>...</td>\n",
              "      <td>...</td>\n",
              "    </tr>\n",
              "    <tr>\n",
              "      <th>110</th>\n",
              "      <td>400000.0</td>\n",
              "      <td>4.248996e+05</td>\n",
              "    </tr>\n",
              "    <tr>\n",
              "      <th>111</th>\n",
              "      <td>815000.0</td>\n",
              "      <td>7.492382e+05</td>\n",
              "    </tr>\n",
              "    <tr>\n",
              "      <th>112</th>\n",
              "      <td>1000000.0</td>\n",
              "      <td>1.028567e+06</td>\n",
              "    </tr>\n",
              "    <tr>\n",
              "      <th>113</th>\n",
              "      <td>2250000.0</td>\n",
              "      <td>1.816246e+06</td>\n",
              "    </tr>\n",
              "    <tr>\n",
              "      <th>114</th>\n",
              "      <td>1212500.0</td>\n",
              "      <td>1.138445e+06</td>\n",
              "    </tr>\n",
              "  </tbody>\n",
              "</table>\n",
              "<p>115 rows × 2 columns</p>\n",
              "</div>"
            ],
            "text/plain": [
              "        Actual     Predicted\n",
              "0    1395000.0  1.094758e+06\n",
              "1     425000.0  3.520889e+05\n",
              "2     261250.0  2.958261e+05\n",
              "3    1150000.0  1.333048e+06\n",
              "4     600000.0  5.288204e+05\n",
              "..         ...           ...\n",
              "110   400000.0  4.248996e+05\n",
              "111   815000.0  7.492382e+05\n",
              "112  1000000.0  1.028567e+06\n",
              "113  2250000.0  1.816246e+06\n",
              "114  1212500.0  1.138445e+06\n",
              "\n",
              "[115 rows x 2 columns]"
            ]
          },
          "metadata": {
            "tags": []
          },
          "execution_count": 16
        }
      ]
    },
    {
      "cell_type": "code",
      "metadata": {
        "id": "qC-krqBduems",
        "colab": {
          "base_uri": "https://localhost:8080/",
          "height": 276
        },
        "outputId": "8f978492-a9d8-4331-ad07-d852ca8095b1"
      },
      "source": [
        "#plotting of regression line\n",
        "plt.scatter(X_test, y_test,  color='grey')\n",
        "plt.plot(X_test, y_pred, color='red', linewidth=2)\n",
        "plt.grid()\n",
        "plt.show()"
      ],
      "execution_count": null,
      "outputs": [
        {
          "output_type": "display_data",
          "data": {
            "image/png": "[encoded data removed]",
            "text/plain": [
              "<Figure size 432x288 with 1 Axes>"
            ]
          },
          "metadata": {
            "tags": [],
            "needs_background": "light"
          }
        }
      ]
    },
    {
      "cell_type": "code",
      "metadata": {
        "id": "Wmkjb-Fhuhgd",
        "colab": {
          "base_uri": "https://localhost:8080/"
        },
        "outputId": "35a7f290-6138-4bcb-b867-7ba19bf5e561"
      },
      "source": [
        "#find mean_absolute_error, mean_squared_error, root_ mean_squared_error\n",
        "print(\"Mean Absolute Error:\", metrics.mean_absolute_error(y_test, y_pred))\n",
        "print('Mean Squared Error:', metrics.mean_squared_error(y_test, y_pred))\n",
        "print(\"Root Mean Squared Error\", np.sqrt(metrics.mean_squared_error(y_test, y_pred)))"
      ],
      "execution_count": null,
      "outputs": [
        {
          "output_type": "stream",
          "text": [
            "Mean Absolute Error: 129889.15004347418\n",
            "Mean Squared Error: 44271345618.54861\n",
            "Root Mean Squared Error 210407.57025009487\n"
          ],
          "name": "stdout"
        }
      ]
    },
    {
      "cell_type": "code",
      "metadata": {
        "id": "-kedkFWTuhiz",
        "colab": {
          "base_uri": "https://localhost:8080/"
        },
        "outputId": "d6c5f5ce-39ef-4066-f033-5aff01dbd291"
      },
      "source": [
        "#find prediction\n",
        "value = float(input(\"Enter SQFT of the house:\"))\n",
        "pred = regressor.predict([[value]])\n",
        "print(\"Predicition = %.2f\" %(pred))"
      ],
      "execution_count": null,
      "outputs": [
        {
          "output_type": "stream",
          "text": [
            "Enter SQFT of the house:995\n",
            "Predicition = 601631.08\n"
          ],
          "name": "stdout"
        }
      ]
    }
  ]
}